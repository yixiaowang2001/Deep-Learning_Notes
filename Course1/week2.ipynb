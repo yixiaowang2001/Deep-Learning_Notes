{
 "cells": [
  {
   "cell_type": "code",
   "execution_count": 1,
   "id": "f524b451",
   "metadata": {},
   "outputs": [],
   "source": [
    "import numpy as np\n",
    "import time"
   ]
  },
  {
   "cell_type": "markdown",
   "id": "7dc00401",
   "metadata": {},
   "source": [
    "## 1. Comparison"
   ]
  },
  {
   "cell_type": "code",
   "execution_count": 25,
   "id": "7ff242ba",
   "metadata": {},
   "outputs": [
    {
     "name": "stdout",
     "output_type": "stream",
     "text": [
      "250126.50557589708\n",
      "Vectorization version: 0.6661415100097656ms\n",
      "250126.50557590416\n",
      "For loop version: 331.38203620910645ms\n"
     ]
    }
   ],
   "source": [
    "a = np.random.rand(1000000)\n",
    "b = np.random.rand(1000000)\n",
    "\n",
    "tic = time.time()\n",
    "c = np.dot(a,b)\n",
    "toc = time.time()\n",
    "\n",
    "print(c)\n",
    "print(\"Vectorization version: \" + str(1000*(toc-tic)) + \"ms\")\n",
    "\n",
    "c = 0\n",
    "tic = time.time()\n",
    "for i in range(1000000):\n",
    "    c += a[i]*b[i]\n",
    "toc = time.time()\n",
    "\n",
    "print(c)\n",
    "print(\"For loop version: \" + str(1000*(toc-tic)) + \"ms\")"
   ]
  },
  {
   "cell_type": "markdown",
   "id": "a6d6b24b",
   "metadata": {},
   "source": [
    "## 2. Numpy Array Operations"
   ]
  },
  {
   "cell_type": "code",
   "execution_count": 26,
   "id": "d27f19a0",
   "metadata": {
    "scrolled": true
   },
   "outputs": [
    {
     "name": "stdout",
     "output_type": "stream",
     "text": [
      "[0.01866495 0.81352094 0.43856281 ... 0.43411878 0.78952949 0.90719659]\n",
      "[1.01884023 2.25583669 1.55047729 ... 1.54360221 2.20235995 2.47736771]\n",
      "[-3.98110784 -0.20638361 -0.82425224 ... -0.83443709 -0.23631809\n",
      " -0.0973961 ]\n",
      "[0.01866495 0.81352094 0.43856281 ... 0.43411878 0.78952949 0.90719659]\n",
      "0.9999999672336279\n",
      "[0.01866495 0.81352094 0.43856281 ... 0.43411878 0.78952949 0.90719659]\n"
     ]
    }
   ],
   "source": [
    "print(a)\n",
    "print(np.exp(a))\n",
    "print(np.log(a))\n",
    "print(np.abs(a))\n",
    "print(np.max(a))  # 计算a的最大值\n",
    "print(np.maximum(a,0))  # 计算a和0的最大值"
   ]
  },
  {
   "cell_type": "markdown",
   "id": "b0c753d7",
   "metadata": {},
   "source": [
    "## 3. Logistic Regression"
   ]
  },
  {
   "cell_type": "markdown",
   "id": "be8f70f9",
   "metadata": {},
   "source": [
    "### a. For loop version"
   ]
  },
  {
   "cell_type": "code",
   "execution_count": null,
   "id": "c28f8fc3",
   "metadata": {},
   "outputs": [],
   "source": [
    "J = 0, dw1 = 0, dw2 = 0, db = 0\n",
    "for i in range(1,m+1):\n",
    "    "
   ]
  }
 ],
 "metadata": {
  "kernelspec": {
   "display_name": "Python 3 (ipykernel)",
   "language": "python",
   "name": "python3"
  },
  "language_info": {
   "codemirror_mode": {
    "name": "ipython",
    "version": 3
   },
   "file_extension": ".py",
   "mimetype": "text/x-python",
   "name": "python",
   "nbconvert_exporter": "python",
   "pygments_lexer": "ipython3",
   "version": "3.9.7"
  }
 },
 "nbformat": 4,
 "nbformat_minor": 5
}
