{
 "cells": [
  {
   "cell_type": "code",
   "execution_count": 1,
   "id": "bc4fb26b",
   "metadata": {},
   "outputs": [],
   "source": [
    "import numpy as np\n",
    "import time"
   ]
  },
  {
   "cell_type": "markdown",
   "id": "0e95d62d",
   "metadata": {},
   "source": [
    "## 1. Comparison"
   ]
  },
  {
   "cell_type": "code",
   "execution_count": 25,
   "id": "7411bc14",
   "metadata": {},
   "outputs": [
    {
     "name": "stdout",
     "output_type": "stream",
     "text": [
      "250126.50557589708\n",
      "Vectorization version: 0.6661415100097656ms\n",
      "250126.50557590416\n",
      "For loop version: 331.38203620910645ms\n"
     ]
    }
   ],
   "source": [
    "a = np.random.rand(1000000)\n",
    "b = np.random.rand(1000000)\n",
    "\n",
    "tic = time.time()\n",
    "c = np.dot(a,b)\n",
    "toc = time.time()\n",
    "\n",
    "print(c)\n",
    "print(\"Vectorization version: \" + str(1000*(toc-tic)) + \"ms\")\n",
    "\n",
    "c = 0\n",
    "tic = time.time()\n",
    "for i in range(1000000):\n",
    "    c += a[i]*b[i]\n",
    "toc = time.time()\n",
    "\n",
    "print(c)\n",
    "print(\"For loop version: \" + str(1000*(toc-tic)) + \"ms\")"
   ]
  },
  {
   "cell_type": "markdown",
   "id": "b1b83dee",
   "metadata": {},
   "source": [
    "## 2. Numpy Array Operations"
   ]
  },
  {
   "cell_type": "code",
   "execution_count": 26,
   "id": "21e9a897",
   "metadata": {
    "scrolled": true
   },
   "outputs": [
    {
     "name": "stdout",
     "output_type": "stream",
     "text": [
      "[0.01866495 0.81352094 0.43856281 ... 0.43411878 0.78952949 0.90719659]\n",
      "[1.01884023 2.25583669 1.55047729 ... 1.54360221 2.20235995 2.47736771]\n",
      "[-3.98110784 -0.20638361 -0.82425224 ... -0.83443709 -0.23631809\n",
      " -0.0973961 ]\n",
      "[0.01866495 0.81352094 0.43856281 ... 0.43411878 0.78952949 0.90719659]\n",
      "0.9999999672336279\n",
      "[0.01866495 0.81352094 0.43856281 ... 0.43411878 0.78952949 0.90719659]\n"
     ]
    }
   ],
   "source": [
    "print(a)\n",
    "print(np.exp(a))\n",
    "print(np.log(a))\n",
    "print(np.abs(a))\n",
    "print(np.max(a))  # 计算a的最大值\n",
    "print(np.maximum(a,0))  # 计算a和0的最大值"
   ]
  },
  {
   "cell_type": "markdown",
   "id": "ffeaf51f",
   "metadata": {},
   "source": [
    "## 3. Broadcasting in Python"
   ]
  },
  {
   "cell_type": "code",
   "execution_count": 28,
   "id": "7ad4c7a6",
   "metadata": {},
   "outputs": [
    {
     "name": "stdout",
     "output_type": "stream",
     "text": [
      "[[ 56.    0.    4.   68. ]\n",
      " [  1.2 104.   52.    8. ]\n",
      " [  1.8 135.   99.    0.9]]\n"
     ]
    }
   ],
   "source": [
    "A = np.array([[56.0, 0.0, 4.0, 68.0],\n",
    "              [1.2, 104.0, 52.0, 8.0],\n",
    "              [1.8, 135.0, 99.0, 0.9]])\n",
    "print(A)"
   ]
  },
  {
   "cell_type": "code",
   "execution_count": 29,
   "id": "8c606d49",
   "metadata": {
    "scrolled": true
   },
   "outputs": [
    {
     "name": "stdout",
     "output_type": "stream",
     "text": [
      "[ 59.  239.  155.   76.9]\n"
     ]
    }
   ],
   "source": [
    "cal = A.sum(axis=0)  # sum vertically; axis=1, sum horizontally\n",
    "print(cal)"
   ]
  },
  {
   "cell_type": "code",
   "execution_count": 32,
   "id": "448015cd",
   "metadata": {},
   "outputs": [
    {
     "name": "stdout",
     "output_type": "stream",
     "text": [
      "[[94.91525424  0.          2.58064516 88.42652796]\n",
      " [ 2.03389831 43.51464435 33.5483871  10.40312094]\n",
      " [ 3.05084746 56.48535565 63.87096774  1.17035111]]\n"
     ]
    }
   ],
   "source": [
    "percentage = 100*A/cal.reshape(1,4)  # reshape is unncessary, but it can ensure the shape of cal\n",
    "print(percentage)"
   ]
  }
 ],
 "metadata": {
  "kernelspec": {
   "display_name": "Python 3 (ipykernel)",
   "language": "python",
   "name": "python3"
  },
  "language_info": {
   "codemirror_mode": {
    "name": "ipython",
    "version": 3
   },
   "file_extension": ".py",
   "mimetype": "text/x-python",
   "name": "python",
   "nbconvert_exporter": "python",
   "pygments_lexer": "ipython3",
   "version": "3.9.7"
  }
 },
 "nbformat": 4,
 "nbformat_minor": 5
}
